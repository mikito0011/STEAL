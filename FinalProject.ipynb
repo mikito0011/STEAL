{
  "nbformat": 4,
  "nbformat_minor": 0,
  "metadata": {
    "colab": {
      "name": "FinalProject.ipynb",
      "provenance": [],
      "collapsed_sections": [],
      "mount_file_id": "1xFJrlbvubuqAqQvbwKYWcKDn6-RiB7nC",
      "authorship_tag": "ABX9TyN1L1/m7OopMAdRGwdraJ8d",
      "include_colab_link": true
    },
    "kernelspec": {
      "name": "python3",
      "display_name": "Python 3"
    },
    "accelerator": "GPU"
  },
  "cells": [
    {
      "cell_type": "markdown",
      "metadata": {
        "id": "view-in-github",
        "colab_type": "text"
      },
      "source": [
        "<a href=\"https://colab.research.google.com/github/mikito0011/STEAL/blob/master/FinalProject.ipynb\" target=\"_parent\"><img src=\"https://colab.research.google.com/assets/colab-badge.svg\" alt=\"Open In Colab\"/></a>"
      ]
    },
    {
      "cell_type": "code",
      "metadata": {
        "id": "dDUv_JhuL-QF",
        "colab": {
          "base_uri": "https://localhost:8080/"
        },
        "outputId": "a318b5ba-2170-4ad9-e06e-9cd93f3581c7"
      },
      "source": [
        "cd ~/Users/mikitotakeshima/STEAL/checkpoints/checkpoints/"
      ],
      "execution_count": 44,
      "outputs": [
        {
          "output_type": "stream",
          "text": [
            "[Errno 2] No such file or directory: '/root/Users/mikitotakeshima/STEAL/checkpoints/checkpoints/'\n",
            "/content/STEAL\n"
          ],
          "name": "stdout"
        }
      ]
    },
    {
      "cell_type": "code",
      "metadata": {
        "colab": {
          "base_uri": "https://localhost:8080/"
        },
        "id": "bhvQ3jCkOuT5",
        "outputId": "27db8b38-eded-49e9-cc04-45d701fb6432"
      },
      "source": [
        "from google.colab import drive\n",
        "drive.mount('/content/gdrive')"
      ],
      "execution_count": 61,
      "outputs": [
        {
          "output_type": "stream",
          "text": [
            "Drive already mounted at /content/gdrive; to attempt to forcibly remount, call drive.mount(\"/content/gdrive\", force_remount=True).\n"
          ],
          "name": "stdout"
        }
      ]
    },
    {
      "cell_type": "code",
      "metadata": {
        "id": "fS_EOtcpMFWm"
      },
      "source": [
        "import torch\n",
        "import numpy as np\n",
        "import torch.utils.data\n",
        "from casenet import casenet101 as CaseNet101\n",
        "from input_reader import InputReaderSemMatDemo\n",
        "from inference_cityscapes import do_test\n",
        "import cv2\n",
        "import ContourBox\n",
        "import vis_utils as vs_utils\n",
        "import os\n",
        "import VisualizerBox\n",
        "import matplotlib.pyplot as plt"
      ],
      "execution_count": 38,
      "outputs": []
    },
    {
      "cell_type": "code",
      "metadata": {
        "id": "tgefEnjCMqOH"
      },
      "source": [
        "# Define input file path and coarse annotation file.\n",
        "image_paths = [\n",
        "    './demo/coarse_to_fine/augsburg_000000_001266_leftImg8bit.png']\n",
        "\n",
        "coarse_gt_paths = [\n",
        "    './demo/coarse_to_fine/augsburg_000000_001266_leftImg8bit.mat']\n",
        "classes_to_refine = [11, 12, 13, 14, 15, 16, 17, 18]\n"
      ],
      "execution_count": 40,
      "outputs": []
    },
    {
      "cell_type": "code",
      "metadata": {
        "id": "vNyw1RfQM6IV"
      },
      "source": [
        "# --- Initializing the coarse gt reader\n",
        "ireader_coarse = InputReaderSemMatDemo(None, None, [1, 19])\n",
        "ireader_coarse.set_external_list(coarse_gt_paths)\n",
        "ireader_coarse.set_classes_to_keep(classes_to_refine)\n"
      ],
      "execution_count": 41,
      "outputs": []
    },
    {
      "cell_type": "code",
      "metadata": {
        "colab": {
          "base_uri": "https://localhost:8080/"
        },
        "id": "6nCYyXg5Or4V",
        "outputId": "b1e9014f-6068-426b-d35f-d2303c8a47ef"
      },
      "source": [
        "# Initializing network and pretrained model.\n",
        "ckpt = '/content/drive/MyDrive/checkpoints/cityscapes/model_checkpoint.pt'\n",
        "net = CaseNet101(nclasses=19)\n",
        "net = torch.nn.DataParallel(net.cuda())\n",
        "net.load_state_dict(torch.load(ckpt), strict=True)"
      ],
      "execution_count": 67,
      "outputs": [
        {
          "output_type": "stream",
          "text": [
            "Assuming Cityscapes CASENET\n"
          ],
          "name": "stdout"
        },
        {
          "output_type": "execute_result",
          "data": {
            "text/plain": [
              "<All keys matched successfully>"
            ]
          },
          "metadata": {
            "tags": []
          },
          "execution_count": 67
        }
      ]
    },
    {
      "cell_type": "code",
      "metadata": {
        "colab": {
          "base_uri": "https://localhost:8080/",
          "height": 453
        },
        "id": "6dpGcRSqiZWQ",
        "outputId": "4bdeddc6-395a-496a-8d67-0d7a780a3f67"
      },
      "source": [
        "## Initializing Contour Box\n",
        "level_set_config_dict = {\n",
        "    'step_ckpts': [0, 30, 50,80],\n",
        "    'lambda_': 0.0,\n",
        "    'alpha': 1,\n",
        "    'smoothing': 1,\n",
        "    'render_radius': -1,\n",
        "    'is_gt_semantic': True,\n",
        "    'method': 'MLS',\n",
        "    'balloon': 1,\n",
        "    'threshold': 0.99,\n",
        "    'merge_weight': 0.5\n",
        "}\n",
        "\n",
        "cbox = ContourBox.LevelSetAlignment(n_workers=1,\n",
        "                                    fn_post_process_callback=None,\n",
        "                                    config=level_set_config_dict)"
      ],
      "execution_count": 68,
      "outputs": [
        {
          "output_type": "error",
          "ename": "ModuleNotFoundError",
          "evalue": "ignored",
          "traceback": [
            "\u001b[0;31m---------------------------------------------------------------------------\u001b[0m",
            "\u001b[0;31mModuleNotFoundError\u001b[0m                       Traceback (most recent call last)",
            "\u001b[0;32m<ipython-input-68-ec7b735da6ce>\u001b[0m in \u001b[0;36m<module>\u001b[0;34m()\u001b[0m\n\u001b[1;32m     15\u001b[0m cbox = ContourBox.LevelSetAlignment(n_workers=1,\n\u001b[1;32m     16\u001b[0m                                     \u001b[0mfn_post_process_callback\u001b[0m\u001b[0;34m=\u001b[0m\u001b[0;32mNone\u001b[0m\u001b[0;34m,\u001b[0m\u001b[0;34m\u001b[0m\u001b[0;34m\u001b[0m\u001b[0m\n\u001b[0;32m---> 17\u001b[0;31m                                     config=level_set_config_dict)\n\u001b[0m",
            "\u001b[0;32m/content/STEAL/ContourBox.py\u001b[0m in \u001b[0;36mLevelSetAlignment\u001b[0;34m(fn_post_process_callback, n_workers, fn_debug, config, method)\u001b[0m\n\u001b[1;32m     71\u001b[0m \u001b[0;34m\u001b[0m\u001b[0m\n\u001b[1;32m     72\u001b[0m \u001b[0;32mdef\u001b[0m \u001b[0mLevelSetAlignment\u001b[0m\u001b[0;34m(\u001b[0m\u001b[0mfn_post_process_callback\u001b[0m\u001b[0;34m=\u001b[0m\u001b[0;32mNone\u001b[0m\u001b[0;34m,\u001b[0m \u001b[0mn_workers\u001b[0m\u001b[0;34m=\u001b[0m\u001b[0;36m1\u001b[0m\u001b[0;34m,\u001b[0m \u001b[0mfn_debug\u001b[0m\u001b[0;34m=\u001b[0m\u001b[0;32mNone\u001b[0m\u001b[0;34m,\u001b[0m \u001b[0mconfig\u001b[0m\u001b[0;34m=\u001b[0m\u001b[0;32mNone\u001b[0m\u001b[0;34m,\u001b[0m \u001b[0mmethod\u001b[0m\u001b[0;34m=\u001b[0m\u001b[0;32mNone\u001b[0m\u001b[0;34m)\u001b[0m\u001b[0;34m:\u001b[0m\u001b[0;34m\u001b[0m\u001b[0;34m\u001b[0m\u001b[0m\n\u001b[0;32m---> 73\u001b[0;31m     \u001b[0;32mimport\u001b[0m \u001b[0mcontours\u001b[0m\u001b[0;34m.\u001b[0m\u001b[0mContourBox_MLS\u001b[0m\u001b[0;34m\u001b[0m\u001b[0;34m\u001b[0m\u001b[0m\n\u001b[0m\u001b[1;32m     74\u001b[0m     _LevelSets = {\n\u001b[1;32m     75\u001b[0m         \u001b[0;34m'MLS'\u001b[0m\u001b[0;34m:\u001b[0m \u001b[0mcontours\u001b[0m\u001b[0;34m.\u001b[0m\u001b[0mContourBox_MLS\u001b[0m\u001b[0;34m.\u001b[0m\u001b[0mMLS\u001b[0m\u001b[0;34m,\u001b[0m\u001b[0;34m\u001b[0m\u001b[0;34m\u001b[0m\u001b[0m\n",
            "\u001b[0;31mModuleNotFoundError\u001b[0m: No module named 'contours'",
            "",
            "\u001b[0;31m---------------------------------------------------------------------------\u001b[0;32m\nNOTE: If your import is failing due to a missing package, you can\nmanually install dependencies using either !pip or !apt.\n\nTo view examples of installing some common dependencies, click the\n\"Open Examples\" button below.\n\u001b[0;31m---------------------------------------------------------------------------\u001b[0m\n"
          ]
        }
      ]
    },
    {
      "cell_type": "code",
      "metadata": {
        "id": "DvIWphviiZ0R"
      },
      "source": [
        ""
      ],
      "execution_count": null,
      "outputs": []
    },
    {
      "cell_type": "code",
      "metadata": {
        "colab": {
          "base_uri": "https://localhost:8080/"
        },
        "id": "gT8f39yNeqmw",
        "outputId": "a36305bf-7608-48bd-e61c-21a69d5c6f39"
      },
      "source": [
        "cd /content/drive/MyDrive/checkpoints/cityscapes"
      ],
      "execution_count": 65,
      "outputs": [
        {
          "output_type": "stream",
          "text": [
            "/content/drive/MyDrive/checkpoints/cityscapes\n"
          ],
          "name": "stdout"
        }
      ]
    }
  ]
}